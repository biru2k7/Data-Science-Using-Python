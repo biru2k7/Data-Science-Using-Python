{
 "cells": [
  {
   "cell_type": "markdown",
   "metadata": {
    "collapsed": false
   },
   "source": [
    "# Lambda functions\n",
    "\n",
    "* A way to create small anonymous functions (functions without names)\n",
    "* Also called throw away functions (just needed where they have been created)\n",
    "* Mainly used in combination with the following functions: \n",
    "    * **map()**\n",
    "    * **filter()**\n",
    "    * **reduce()**\n",
    "    \n",
    "* Syntax of lambda function:\n",
    "\n",
    "    * **lambda argument_list: expression**\n",
    "    * **argument_list**: list of comma seprated arguments\n",
    "    * **expresion**: opreation using these arguments"
   ]
  },
  {
   "cell_type": "code",
   "execution_count": 3,
   "metadata": {
    "collapsed": false
   },
   "outputs": [
    {
     "data": {
      "text/plain": [
       "3"
      ]
     },
     "execution_count": 3,
     "metadata": {},
     "output_type": "execute_result"
    }
   ],
   "source": [
    "func = lambda x,y: x+y\n",
    "func(1,2)"
   ]
  },
  {
   "cell_type": "code",
   "execution_count": 6,
   "metadata": {
    "collapsed": false
   },
   "outputs": [
    {
     "data": {
      "text/plain": [
       "22"
      ]
     },
     "execution_count": 6,
     "metadata": {},
     "output_type": "execute_result"
    }
   ],
   "source": [
    "func1 = lambda x,y: x if x>y else y\n",
    "func1(10,22)"
   ]
  },
  {
   "cell_type": "markdown",
   "metadata": {},
   "source": [
    "# Map() functions\n",
    "* map() is a function with 2 arguments, **map(function, seq)**\n",
    "* **function**: name of the function\n",
    "* **seq**: a seq (e.g. a list or tuple)\n",
    "* map() applies the **function** to all the elements of **seq**\n",
    "* **return** a new list with the elements changed by **function**"
   ]
  },
  {
   "cell_type": "code",
   "execution_count": 8,
   "metadata": {
    "collapsed": false
   },
   "outputs": [
    {
     "data": {
      "text/plain": [
       "[86.0, 104.0, 122.0, 140.0]"
      ]
     },
     "execution_count": 8,
     "metadata": {},
     "output_type": "execute_result"
    }
   ],
   "source": [
    "# function to convert celsius to fahrenheit\n",
    "def fahrenheit(t):\n",
    "    return ((float(9)/5)*t + 32)\n",
    "# defined a tuple named temp\n",
    "temp = (30, 40, 50,60)\n",
    "# output is stored in F (list)\n",
    "F = map(fahrenheit, temp)\n",
    "F"
   ]
  },
  {
   "cell_type": "code",
   "execution_count": 11,
   "metadata": {
    "collapsed": false
   },
   "outputs": [
    {
     "data": {
      "text/plain": [
       "[86.0, 104.0, 122.0, 140.0]"
      ]
     },
     "execution_count": 11,
     "metadata": {},
     "output_type": "execute_result"
    }
   ],
   "source": [
    "# above example using lambda and map\n",
    "f = map(lambda t: ((float(9)/5)*t + 32), temp)\n",
    "f"
   ]
  },
  {
   "cell_type": "markdown",
   "metadata": {},
   "source": [
    "**map() can be applied on more than one list**"
   ]
  },
  {
   "cell_type": "code",
   "execution_count": 12,
   "metadata": {
    "collapsed": false
   },
   "outputs": [
    {
     "data": {
      "text/plain": [
       "[11, 13, 15, 17]"
      ]
     },
     "execution_count": 12,
     "metadata": {},
     "output_type": "execute_result"
    }
   ],
   "source": [
    "a = [1,2,3,4]\n",
    "b = [10,11,12,13]\n",
    "# sum of a and b \n",
    "map(lambda x, y: x+y, a,b)"
   ]
  },
  {
   "cell_type": "markdown",
   "metadata": {},
   "source": [
    "# Filter\n",
    "* **Syntax: filter(function, list)**\n",
    "* filter out all the elements of the list for which function returns true\n",
    "* will return a list as output"
   ]
  },
  {
   "cell_type": "code",
   "execution_count": 17,
   "metadata": {
    "collapsed": false
   },
   "outputs": [
    {
     "name": "stdout",
     "output_type": "stream",
     "text": [
      "[2, 4, 6, 8, 10, 12]\n",
      "[1, 3, 5, 7, 9, 11]\n"
     ]
    }
   ],
   "source": [
    "list1 = [1,2,3,4,5,6,7,8,9,10,11,12]\n",
    "list_even = filter(lambda x: x%2==0, list1)\n",
    "list_odd = filter(lambda x: x%2, list1)\n",
    "print list_even\n",
    "print list_odd"
   ]
  },
  {
   "cell_type": "markdown",
   "metadata": {},
   "source": [
    "Reduce\n",
    "* **Syntax: reduce(func, seq)**\n",
    "* applies **func** to **seq** and return a single value "
   ]
  },
  {
   "cell_type": "code",
   "execution_count": 19,
   "metadata": {
    "collapsed": false
   },
   "outputs": [
    {
     "data": {
      "text/plain": [
       "10"
      ]
     },
     "execution_count": 19,
     "metadata": {},
     "output_type": "execute_result"
    }
   ],
   "source": [
    "a = [1,2,3,4]\n",
    "# total sum\n",
    "b = reduce(lambda x,y: x+y, a)\n",
    "b"
   ]
  },
  {
   "cell_type": "code",
   "execution_count": 21,
   "metadata": {
    "collapsed": false
   },
   "outputs": [
    {
     "data": {
      "text/plain": [
       "4"
      ]
     },
     "execution_count": 21,
     "metadata": {},
     "output_type": "execute_result"
    }
   ],
   "source": [
    "# max value of the series\n",
    "reduce(lambda x,y: x if(x>y) else y, a)"
   ]
  },
  {
   "cell_type": "code",
   "execution_count": 22,
   "metadata": {
    "collapsed": false
   },
   "outputs": [
    {
     "data": {
      "text/plain": [
       "1"
      ]
     },
     "execution_count": 22,
     "metadata": {},
     "output_type": "execute_result"
    }
   ],
   "source": [
    "# min value of the series\n",
    "reduce(lambda x,y: y if(x>y) else x, a)"
   ]
  },
  {
   "cell_type": "code",
   "execution_count": null,
   "metadata": {
    "collapsed": true
   },
   "outputs": [],
   "source": []
  }
 ],
 "metadata": {
  "anaconda-cloud": {},
  "kernelspec": {
   "display_name": "Python [Root]",
   "language": "python",
   "name": "Python [Root]"
  },
  "language_info": {
   "codemirror_mode": {
    "name": "ipython",
    "version": 2
   },
   "file_extension": ".py",
   "mimetype": "text/x-python",
   "name": "python",
   "nbconvert_exporter": "python",
   "pygments_lexer": "ipython2",
   "version": "2.7.12"
  }
 },
 "nbformat": 4,
 "nbformat_minor": 0
}

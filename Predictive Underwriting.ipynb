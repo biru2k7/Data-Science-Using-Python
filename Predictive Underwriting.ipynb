{
 "cells": [
  {
   "cell_type": "markdown",
   "metadata": {},
   "source": [
    "# a pricing model must translate the target return on capital into target loss ratios or target combined ratios. \n",
    "\n",
    "# Def: \n",
    "Insurance underwriters **evaluate the risk and exposures** of potential clients. They decide how much coverage the client should receive, how much they should pay for it, or whether even to accept the risk and insure them. Underwriting involves measuring risk exposure and determining the premium that needs to be charged to insure that risk. The function of the underwriter is to protect the company's book of business from risks that they feel will make a loss and issue insurance policies at a premium that is commensurate with the exposure presented by a risk.\n",
    "\n",
    "# **Data**: Two types of data we generally look for\n",
    "\n",
    "**1) Traditionally used underwriting data**\n",
    "\n",
    "* **Application Data** – any piece of data submitted to the company by an insurance applicant is a candidate for the predictive model. \n",
    "* **Medical Information Bureau (MIB)** – When member companies receive an application, they will request a report from the MIB. This report includes MIB codes which provide detail on prior insurance applications submitted to other member companies by the person in question.\n",
    "* **Motor Vehicle Record (MVR)** – The  MVR provides a history of driving criticisms, if any, for a given applicant. This inexpensive and readily available data source provides important information on the applicant’s risk profile otherwise unavailable in third-party marketing data.\n",
    "* **Electronic Rx Profile** – in recent years, several firms have started collecting prescription data records from pharmacy benefit managers nationwide, compiling by individual, and selling this information to insurers.\n",
    "* **Medical Test data (Blood, urine analysis, EKG’s, medical records and exam, etc.)** It would add predictive power to a model, but the time and cost to include them may negate the benefits.\n",
    "\n",
    "**2) Alternative datasets not traditionally used in underwriting assessments**\n",
    "* **Marketing data from Credit Rating Agencies (Equifax and Axiom) to get lifestyle related information**- It is important to distinguish between marketing data and the credit score information for which these consumer reporting agencies are better known. Beyond the credit data, these firms also collect and distribute consumer information for marketing purposes. Whenever you use your credit card to make a purchase, or provide your phone number or zip code to the cashier, this data is being collected, aggregated, and resold.\n",
    "**Lifestyle of a customer can be predicted using marketing data and can be used in our model**. The third party marketing dataset obtained from the consumer credit company contains thousands of fields of data. In contrast to the credit score data, is not subject to the Fair Credit Reporting Act (FCRA) requirements, and does not require signature authority by the insurance applicant to use it in a model. For the purposes of constructing a model, the data can be returned without personally identifiable information. Our experience indicates that using an individual’s name and address, the typical match rate for members of these databases is over 95 percent\n",
    "\n",
    "** apart from that Lifestyle and Lifestage are also very important**\n"
   ]
  },
  {
   "cell_type": "markdown",
   "metadata": {},
   "source": [
    "# Modelling Processes\n",
    "\n",
    "* **Collect and organize all the data** for applications received by the insurer over the past 12 to 18 months.\n",
    "    * Depending upon the volume of applications received, this time frame typically produces a sample of underwriting decisions which will be large enough to sufficiently remove the statistical variation in the model.\n",
    "    * And ensure the third-party data available is still relevant. The external data technically reflects the applicant’s lifestyle today, but is still an accurate representation of them when they applied for insurance provided that time was in the recent past. Based on our experience, 18 months is about when you may begin to see material changes in the modeling data, and thus question its applicability to the application date.\n",
    "* **Data preparation** can be summarized into four steps which are described below:\n",
    "    * 1) Variable Generation\n",
    "    * 2) Exploratory Data Analysis\n",
    "    * 3) Variable Transformation     \n",
    "    * 4) Partitioning Model Set for Model Build\n",
    "    \n",
    "    \n",
    "* **Stepwise regression** a prefered modelling technique"
   ]
  },
  {
   "cell_type": "markdown",
   "metadata": {},
   "source": [
    "# Pricing\n",
    "\n",
    "**Pricing indications are based on**\n",
    "* A number of underwriting factors including historical results, analysis of exposure and estimates of future loss costs,\n",
    "* A review of other programs displaying similar exposure characteristics and\n",
    "* The ceding company's underwriting and claims experience\n",
    "* Financial stability and creditworthiness of ceding companies"
   ]
  },
  {
   "cell_type": "markdown",
   "metadata": {},
   "source": [
    "# Difference between an underwriter and an actuary\n",
    "\n",
    "“Actuaries figure out the price needed for the whole forest, underwriters calculate the right price for each individual tree.”"
   ]
  },
  {
   "cell_type": "code",
   "execution_count": null,
   "metadata": {
    "collapsed": true
   },
   "outputs": [],
   "source": []
  }
 ],
 "metadata": {
  "kernelspec": {
   "display_name": "Python [Root]",
   "language": "python",
   "name": "Python [Root]"
  },
  "language_info": {
   "codemirror_mode": {
    "name": "ipython",
    "version": 2
   },
   "file_extension": ".py",
   "mimetype": "text/x-python",
   "name": "python",
   "nbconvert_exporter": "python",
   "pygments_lexer": "ipython2",
   "version": "2.7.12"
  }
 },
 "nbformat": 4,
 "nbformat_minor": 0
}
